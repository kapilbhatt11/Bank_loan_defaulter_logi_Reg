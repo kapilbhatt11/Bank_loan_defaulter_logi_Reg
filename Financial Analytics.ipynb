{
 "cells": [
  {
   "cell_type": "code",
   "execution_count": 1,
   "id": "20ce8e27",
   "metadata": {},
   "outputs": [],
   "source": [
    "import numpy as np\n",
    "import matplotlib.pyplot as plt\n",
    "import pandas as pd\n",
    "import seaborn as sns \n",
    "color = sns.color_palette()\n",
    "import sklearn.metrics as metrics\n",
    "\n",
    "import warnings\n",
    "warnings.filterwarnings(\"ignore\")"
   ]
  },
  {
   "cell_type": "code",
   "execution_count": 2,
   "id": "044fe0f9",
   "metadata": {},
   "outputs": [],
   "source": [
    "Default = pd.read_csv(\"attachment_default.csv\")"
   ]
  },
  {
   "cell_type": "code",
   "execution_count": 3,
   "id": "ced22a6f",
   "metadata": {},
   "outputs": [
    {
     "data": {
      "text/html": [
       "<div>\n",
       "<style scoped>\n",
       "    .dataframe tbody tr th:only-of-type {\n",
       "        vertical-align: middle;\n",
       "    }\n",
       "\n",
       "    .dataframe tbody tr th {\n",
       "        vertical-align: top;\n",
       "    }\n",
       "\n",
       "    .dataframe thead th {\n",
       "        text-align: right;\n",
       "    }\n",
       "</style>\n",
       "<table border=\"1\" class=\"dataframe\">\n",
       "  <thead>\n",
       "    <tr style=\"text-align: right;\">\n",
       "      <th></th>\n",
       "      <th>default</th>\n",
       "      <th>student</th>\n",
       "      <th>balance</th>\n",
       "      <th>income</th>\n",
       "    </tr>\n",
       "  </thead>\n",
       "  <tbody>\n",
       "    <tr>\n",
       "      <th>0</th>\n",
       "      <td>No</td>\n",
       "      <td>No</td>\n",
       "      <td>729.526495</td>\n",
       "      <td>44361.625074</td>\n",
       "    </tr>\n",
       "    <tr>\n",
       "      <th>1</th>\n",
       "      <td>No</td>\n",
       "      <td>Yes</td>\n",
       "      <td>817.180407</td>\n",
       "      <td>12106.134700</td>\n",
       "    </tr>\n",
       "    <tr>\n",
       "      <th>2</th>\n",
       "      <td>No</td>\n",
       "      <td>No</td>\n",
       "      <td>1073.549164</td>\n",
       "      <td>31767.138947</td>\n",
       "    </tr>\n",
       "    <tr>\n",
       "      <th>3</th>\n",
       "      <td>No</td>\n",
       "      <td>No</td>\n",
       "      <td>529.250605</td>\n",
       "      <td>35704.493935</td>\n",
       "    </tr>\n",
       "    <tr>\n",
       "      <th>4</th>\n",
       "      <td>No</td>\n",
       "      <td>No</td>\n",
       "      <td>785.655883</td>\n",
       "      <td>38463.495879</td>\n",
       "    </tr>\n",
       "  </tbody>\n",
       "</table>\n",
       "</div>"
      ],
      "text/plain": [
       "  default student      balance        income\n",
       "0      No      No   729.526495  44361.625074\n",
       "1      No     Yes   817.180407  12106.134700\n",
       "2      No      No  1073.549164  31767.138947\n",
       "3      No      No   529.250605  35704.493935\n",
       "4      No      No   785.655883  38463.495879"
      ]
     },
     "execution_count": 3,
     "metadata": {},
     "output_type": "execute_result"
    }
   ],
   "source": [
    "Default.head()"
   ]
  },
  {
   "cell_type": "code",
   "execution_count": 4,
   "id": "4cc94215",
   "metadata": {},
   "outputs": [
    {
     "data": {
      "text/plain": [
       "(10000, 4)"
      ]
     },
     "execution_count": 4,
     "metadata": {},
     "output_type": "execute_result"
    }
   ],
   "source": [
    "Default.shape"
   ]
  },
  {
   "cell_type": "code",
   "execution_count": 5,
   "id": "a9129157",
   "metadata": {},
   "outputs": [
    {
     "data": {
      "text/html": [
       "<div>\n",
       "<style scoped>\n",
       "    .dataframe tbody tr th:only-of-type {\n",
       "        vertical-align: middle;\n",
       "    }\n",
       "\n",
       "    .dataframe tbody tr th {\n",
       "        vertical-align: top;\n",
       "    }\n",
       "\n",
       "    .dataframe thead th {\n",
       "        text-align: right;\n",
       "    }\n",
       "</style>\n",
       "<table border=\"1\" class=\"dataframe\">\n",
       "  <thead>\n",
       "    <tr style=\"text-align: right;\">\n",
       "      <th></th>\n",
       "      <th>balance</th>\n",
       "      <th>income</th>\n",
       "    </tr>\n",
       "  </thead>\n",
       "  <tbody>\n",
       "    <tr>\n",
       "      <th>count</th>\n",
       "      <td>10000.000000</td>\n",
       "      <td>10000.000000</td>\n",
       "    </tr>\n",
       "    <tr>\n",
       "      <th>mean</th>\n",
       "      <td>835.374886</td>\n",
       "      <td>33516.981876</td>\n",
       "    </tr>\n",
       "    <tr>\n",
       "      <th>std</th>\n",
       "      <td>483.714985</td>\n",
       "      <td>13336.639563</td>\n",
       "    </tr>\n",
       "    <tr>\n",
       "      <th>min</th>\n",
       "      <td>0.000000</td>\n",
       "      <td>771.967729</td>\n",
       "    </tr>\n",
       "    <tr>\n",
       "      <th>25%</th>\n",
       "      <td>481.731105</td>\n",
       "      <td>21340.462903</td>\n",
       "    </tr>\n",
       "    <tr>\n",
       "      <th>50%</th>\n",
       "      <td>823.636973</td>\n",
       "      <td>34552.644802</td>\n",
       "    </tr>\n",
       "    <tr>\n",
       "      <th>75%</th>\n",
       "      <td>1166.308386</td>\n",
       "      <td>43807.729272</td>\n",
       "    </tr>\n",
       "    <tr>\n",
       "      <th>max</th>\n",
       "      <td>2654.322576</td>\n",
       "      <td>73554.233495</td>\n",
       "    </tr>\n",
       "  </tbody>\n",
       "</table>\n",
       "</div>"
      ],
      "text/plain": [
       "            balance        income\n",
       "count  10000.000000  10000.000000\n",
       "mean     835.374886  33516.981876\n",
       "std      483.714985  13336.639563\n",
       "min        0.000000    771.967729\n",
       "25%      481.731105  21340.462903\n",
       "50%      823.636973  34552.644802\n",
       "75%     1166.308386  43807.729272\n",
       "max     2654.322576  73554.233495"
      ]
     },
     "execution_count": 5,
     "metadata": {},
     "output_type": "execute_result"
    }
   ],
   "source": [
    "Default.describe()"
   ]
  },
  {
   "cell_type": "code",
   "execution_count": 6,
   "id": "623b4032",
   "metadata": {},
   "outputs": [
    {
     "data": {
      "text/plain": [
       "<AxesSubplot:ylabel='income'>"
      ]
     },
     "execution_count": 6,
     "metadata": {},
     "output_type": "execute_result"
    },
    {
     "data": {
      "image/png": "[encoded data removed]",
      "text/plain": [
       "<Figure size 1080x360 with 2 Axes>"
      ]
     },
     "metadata": {
      "needs_background": "light"
     },
     "output_type": "display_data"
    }
   ],
   "source": [
    "plt.figure(figsize = (15,5))\n",
    "plt.subplot(1,2,1)\n",
    "sns.boxplot(y=Default[\"balance\"])\n",
    "\n",
    "plt.subplot(1,2,2)\n",
    "sns.boxplot(y=Default[\"income\"])"
   ]
  },
  {
   "cell_type": "code",
   "execution_count": 7,
   "id": "7b4259ea",
   "metadata": {},
   "outputs": [
    {
     "data": {
      "image/png": "[encoded data removed]",
      "text/plain": [
       "<Figure size 1080x360 with 2 Axes>"
      ]
     },
     "metadata": {
      "needs_background": "light"
     },
     "output_type": "display_data"
    }
   ],
   "source": [
    "plt.figure(figsize=(15,5))\n",
    "plt.subplot(1,2,1)\n",
    "sns.countplot(Default['student'])\n",
    "plt.subplot(1,2,2)\n",
    "sns.countplot(Default['default'])\n",
    "plt.show()\n"
   ]
  },
  {
   "cell_type": "code",
   "execution_count": 8,
   "id": "6037f929",
   "metadata": {},
   "outputs": [
    {
     "data": {
      "text/plain": [
       "No     7056\n",
       "Yes    2944\n",
       "Name: student, dtype: int64"
      ]
     },
     "execution_count": 8,
     "metadata": {},
     "output_type": "execute_result"
    }
   ],
   "source": [
    "Default['student'].value_counts()"
   ]
  },
  {
   "cell_type": "code",
   "execution_count": 9,
   "id": "f5c53e26",
   "metadata": {},
   "outputs": [
    {
     "data": {
      "text/plain": [
       "No     9667\n",
       "Yes     333\n",
       "Name: default, dtype: int64"
      ]
     },
     "execution_count": 9,
     "metadata": {},
     "output_type": "execute_result"
    }
   ],
   "source": [
    "Default['default'].value_counts()"
   ]
  },
  {
   "cell_type": "code",
   "execution_count": 10,
   "id": "9235b1ef",
   "metadata": {},
   "outputs": [
    {
     "data": {
      "text/plain": [
       "No     0.7056\n",
       "Yes    0.2944\n",
       "Name: student, dtype: float64"
      ]
     },
     "execution_count": 10,
     "metadata": {},
     "output_type": "execute_result"
    }
   ],
   "source": [
    "Default['student'].value_counts(normalize=True)"
   ]
  },
  {
   "cell_type": "code",
   "execution_count": 11,
   "id": "1a52f7d3",
   "metadata": {},
   "outputs": [
    {
     "data": {
      "text/plain": [
       "No     0.9667\n",
       "Yes    0.0333\n",
       "Name: default, dtype: float64"
      ]
     },
     "execution_count": 11,
     "metadata": {},
     "output_type": "execute_result"
    }
   ],
   "source": [
    "Default['default'].value_counts(normalize=True)"
   ]
  },
  {
   "cell_type": "code",
   "execution_count": 12,
   "id": "5d66cf32",
   "metadata": {},
   "outputs": [
    {
     "data": {
      "image/png": "[encoded data removed]",
      "text/plain": [
       "<Figure size 1080x360 with 2 Axes>"
      ]
     },
     "metadata": {
      "needs_background": "light"
     },
     "output_type": "display_data"
    }
   ],
   "source": [
    "plt.figure(figsize = (15,5))\n",
    "plt.subplot(1,2,1)\n",
    "sns.boxplot(Default['default'],Default['balance'])\n",
    "\n",
    "plt.subplot(1,2,2)\n",
    "sns.boxplot(Default['default'],Default['income'])\n",
    "plt.show()"
   ]
  },
  {
   "cell_type": "code",
   "execution_count": 13,
   "id": "6c09961d",
   "metadata": {},
   "outputs": [
    {
     "data": {
      "text/html": [
       "<div>\n",
       "<style scoped>\n",
       "    .dataframe tbody tr th:only-of-type {\n",
       "        vertical-align: middle;\n",
       "    }\n",
       "\n",
       "    .dataframe tbody tr th {\n",
       "        vertical-align: top;\n",
       "    }\n",
       "\n",
       "    .dataframe thead th {\n",
       "        text-align: right;\n",
       "    }\n",
       "</style>\n",
       "<table border=\"1\" class=\"dataframe\">\n",
       "  <thead>\n",
       "    <tr style=\"text-align: right;\">\n",
       "      <th>default</th>\n",
       "      <th>No</th>\n",
       "      <th>Yes</th>\n",
       "    </tr>\n",
       "    <tr>\n",
       "      <th>student</th>\n",
       "      <th></th>\n",
       "      <th></th>\n",
       "    </tr>\n",
       "  </thead>\n",
       "  <tbody>\n",
       "    <tr>\n",
       "      <th>No</th>\n",
       "      <td>0.97</td>\n",
       "      <td>0.03</td>\n",
       "    </tr>\n",
       "    <tr>\n",
       "      <th>Yes</th>\n",
       "      <td>0.96</td>\n",
       "      <td>0.04</td>\n",
       "    </tr>\n",
       "  </tbody>\n",
       "</table>\n",
       "</div>"
      ],
      "text/plain": [
       "default    No   Yes\n",
       "student            \n",
       "No       0.97  0.03\n",
       "Yes      0.96  0.04"
      ]
     },
     "execution_count": 13,
     "metadata": {},
     "output_type": "execute_result"
    }
   ],
   "source": [
    "pd.crosstab(Default['student'],Default['default'],normalize = 'index').round(2)"
   ]
  },
  {
   "cell_type": "code",
   "execution_count": 14,
   "id": "ccc51268",
   "metadata": {},
   "outputs": [
    {
     "data": {
      "image/png": "[encoded data removed]",
      "text/plain": [
       "<Figure size 432x288 with 2 Axes>"
      ]
     },
     "metadata": {
      "needs_background": "light"
     },
     "output_type": "display_data"
    }
   ],
   "source": [
    "sns.heatmap(Default[['balance','income']].corr(),annot = True)\n",
    "plt.show()"
   ]
  },
  {
   "cell_type": "code",
   "execution_count": 15,
   "id": "7fbbf6b3",
   "metadata": {},
   "outputs": [],
   "source": [
    "Q1,Q3 = Default['balance'].quantile([.25,.75])\n",
    "IQR = Q3 - Q1\n",
    "LL = Q1-1.5*(IQR)\n",
    "UL = Q3+1.5*(IQR) "
   ]
  },
  {
   "cell_type": "code",
   "execution_count": 16,
   "id": "e0c56304",
   "metadata": {},
   "outputs": [
    {
     "data": {
      "text/plain": [
       "2193.174308607817"
      ]
     },
     "execution_count": 16,
     "metadata": {},
     "output_type": "execute_result"
    }
   ],
   "source": [
    "UL"
   ]
  },
  {
   "cell_type": "code",
   "execution_count": 17,
   "id": "fd207a1d",
   "metadata": {},
   "outputs": [],
   "source": [
    "df = Default[Default['balance']>UL]"
   ]
  },
  {
   "cell_type": "code",
   "execution_count": 18,
   "id": "338c28e7",
   "metadata": {},
   "outputs": [
    {
     "data": {
      "text/html": [
       "<div>\n",
       "<style scoped>\n",
       "    .dataframe tbody tr th:only-of-type {\n",
       "        vertical-align: middle;\n",
       "    }\n",
       "\n",
       "    .dataframe tbody tr th {\n",
       "        vertical-align: top;\n",
       "    }\n",
       "\n",
       "    .dataframe thead th {\n",
       "        text-align: right;\n",
       "    }\n",
       "</style>\n",
       "<table border=\"1\" class=\"dataframe\">\n",
       "  <thead>\n",
       "    <tr style=\"text-align: right;\">\n",
       "      <th></th>\n",
       "      <th>default</th>\n",
       "      <th>student</th>\n",
       "      <th>balance</th>\n",
       "      <th>income</th>\n",
       "    </tr>\n",
       "  </thead>\n",
       "  <tbody>\n",
       "    <tr>\n",
       "      <th>173</th>\n",
       "      <td>Yes</td>\n",
       "      <td>Yes</td>\n",
       "      <td>2205.799521</td>\n",
       "      <td>14271.492253</td>\n",
       "    </tr>\n",
       "    <tr>\n",
       "      <th>1136</th>\n",
       "      <td>Yes</td>\n",
       "      <td>No</td>\n",
       "      <td>2499.016750</td>\n",
       "      <td>51504.293960</td>\n",
       "    </tr>\n",
       "    <tr>\n",
       "      <th>1160</th>\n",
       "      <td>Yes</td>\n",
       "      <td>Yes</td>\n",
       "      <td>2502.684931</td>\n",
       "      <td>14947.519752</td>\n",
       "    </tr>\n",
       "    <tr>\n",
       "      <th>1359</th>\n",
       "      <td>Yes</td>\n",
       "      <td>No</td>\n",
       "      <td>2220.966201</td>\n",
       "      <td>40725.096207</td>\n",
       "    </tr>\n",
       "    <tr>\n",
       "      <th>1502</th>\n",
       "      <td>Yes</td>\n",
       "      <td>Yes</td>\n",
       "      <td>2332.878254</td>\n",
       "      <td>11770.234124</td>\n",
       "    </tr>\n",
       "    <tr>\n",
       "      <th>1609</th>\n",
       "      <td>Yes</td>\n",
       "      <td>Yes</td>\n",
       "      <td>2269.946966</td>\n",
       "      <td>18021.105948</td>\n",
       "    </tr>\n",
       "    <tr>\n",
       "      <th>2096</th>\n",
       "      <td>Yes</td>\n",
       "      <td>Yes</td>\n",
       "      <td>2261.848162</td>\n",
       "      <td>20030.165119</td>\n",
       "    </tr>\n",
       "    <tr>\n",
       "      <th>2140</th>\n",
       "      <td>No</td>\n",
       "      <td>Yes</td>\n",
       "      <td>2308.893236</td>\n",
       "      <td>19110.266412</td>\n",
       "    </tr>\n",
       "    <tr>\n",
       "      <th>2929</th>\n",
       "      <td>Yes</td>\n",
       "      <td>Yes</td>\n",
       "      <td>2387.314867</td>\n",
       "      <td>28296.914718</td>\n",
       "    </tr>\n",
       "    <tr>\n",
       "      <th>3162</th>\n",
       "      <td>Yes</td>\n",
       "      <td>Yes</td>\n",
       "      <td>2415.316994</td>\n",
       "      <td>17429.503375</td>\n",
       "    </tr>\n",
       "    <tr>\n",
       "      <th>3189</th>\n",
       "      <td>Yes</td>\n",
       "      <td>No</td>\n",
       "      <td>2228.472283</td>\n",
       "      <td>27438.348988</td>\n",
       "    </tr>\n",
       "    <tr>\n",
       "      <th>3702</th>\n",
       "      <td>No</td>\n",
       "      <td>Yes</td>\n",
       "      <td>2370.463612</td>\n",
       "      <td>24251.958722</td>\n",
       "    </tr>\n",
       "    <tr>\n",
       "      <th>3855</th>\n",
       "      <td>Yes</td>\n",
       "      <td>Yes</td>\n",
       "      <td>2321.882221</td>\n",
       "      <td>21331.314781</td>\n",
       "    </tr>\n",
       "    <tr>\n",
       "      <th>3913</th>\n",
       "      <td>Yes</td>\n",
       "      <td>Yes</td>\n",
       "      <td>2334.123559</td>\n",
       "      <td>19335.889287</td>\n",
       "    </tr>\n",
       "    <tr>\n",
       "      <th>3976</th>\n",
       "      <td>No</td>\n",
       "      <td>Yes</td>\n",
       "      <td>2388.174009</td>\n",
       "      <td>7832.135644</td>\n",
       "    </tr>\n",
       "    <tr>\n",
       "      <th>4060</th>\n",
       "      <td>Yes</td>\n",
       "      <td>Yes</td>\n",
       "      <td>2216.017669</td>\n",
       "      <td>20911.695635</td>\n",
       "    </tr>\n",
       "    <tr>\n",
       "      <th>4231</th>\n",
       "      <td>Yes</td>\n",
       "      <td>Yes</td>\n",
       "      <td>2291.617688</td>\n",
       "      <td>20837.209447</td>\n",
       "    </tr>\n",
       "    <tr>\n",
       "      <th>4831</th>\n",
       "      <td>No</td>\n",
       "      <td>Yes</td>\n",
       "      <td>2216.329753</td>\n",
       "      <td>24737.081761</td>\n",
       "    </tr>\n",
       "    <tr>\n",
       "      <th>5461</th>\n",
       "      <td>Yes</td>\n",
       "      <td>Yes</td>\n",
       "      <td>2247.421889</td>\n",
       "      <td>17926.723014</td>\n",
       "    </tr>\n",
       "    <tr>\n",
       "      <th>6075</th>\n",
       "      <td>Yes</td>\n",
       "      <td>No</td>\n",
       "      <td>2413.319449</td>\n",
       "      <td>38540.572705</td>\n",
       "    </tr>\n",
       "    <tr>\n",
       "      <th>6334</th>\n",
       "      <td>Yes</td>\n",
       "      <td>No</td>\n",
       "      <td>2343.797513</td>\n",
       "      <td>51095.293929</td>\n",
       "    </tr>\n",
       "    <tr>\n",
       "      <th>6882</th>\n",
       "      <td>Yes</td>\n",
       "      <td>Yes</td>\n",
       "      <td>2287.173842</td>\n",
       "      <td>18692.144311</td>\n",
       "    </tr>\n",
       "    <tr>\n",
       "      <th>7437</th>\n",
       "      <td>Yes</td>\n",
       "      <td>Yes</td>\n",
       "      <td>2461.506979</td>\n",
       "      <td>11878.557045</td>\n",
       "    </tr>\n",
       "    <tr>\n",
       "      <th>7815</th>\n",
       "      <td>Yes</td>\n",
       "      <td>Yes</td>\n",
       "      <td>2578.469022</td>\n",
       "      <td>25706.647774</td>\n",
       "    </tr>\n",
       "    <tr>\n",
       "      <th>8264</th>\n",
       "      <td>Yes</td>\n",
       "      <td>No</td>\n",
       "      <td>2236.764215</td>\n",
       "      <td>37113.883070</td>\n",
       "    </tr>\n",
       "    <tr>\n",
       "      <th>8495</th>\n",
       "      <td>Yes</td>\n",
       "      <td>Yes</td>\n",
       "      <td>2654.322576</td>\n",
       "      <td>21930.388879</td>\n",
       "    </tr>\n",
       "    <tr>\n",
       "      <th>8832</th>\n",
       "      <td>Yes</td>\n",
       "      <td>Yes</td>\n",
       "      <td>2207.599054</td>\n",
       "      <td>19780.763519</td>\n",
       "    </tr>\n",
       "    <tr>\n",
       "      <th>8992</th>\n",
       "      <td>Yes</td>\n",
       "      <td>Yes</td>\n",
       "      <td>2352.054949</td>\n",
       "      <td>24067.548104</td>\n",
       "    </tr>\n",
       "    <tr>\n",
       "      <th>9873</th>\n",
       "      <td>No</td>\n",
       "      <td>No</td>\n",
       "      <td>2391.007739</td>\n",
       "      <td>50302.909557</td>\n",
       "    </tr>\n",
       "    <tr>\n",
       "      <th>9893</th>\n",
       "      <td>Yes</td>\n",
       "      <td>No</td>\n",
       "      <td>2288.408082</td>\n",
       "      <td>52043.569052</td>\n",
       "    </tr>\n",
       "    <tr>\n",
       "      <th>9978</th>\n",
       "      <td>Yes</td>\n",
       "      <td>No</td>\n",
       "      <td>2202.462395</td>\n",
       "      <td>47287.257108</td>\n",
       "    </tr>\n",
       "  </tbody>\n",
       "</table>\n",
       "</div>"
      ],
      "text/plain": [
       "     default student      balance        income\n",
       "173      Yes     Yes  2205.799521  14271.492253\n",
       "1136     Yes      No  2499.016750  51504.293960\n",
       "1160     Yes     Yes  2502.684931  14947.519752\n",
       "1359     Yes      No  2220.966201  40725.096207\n",
       "1502     Yes     Yes  2332.878254  11770.234124\n",
       "1609     Yes     Yes  2269.946966  18021.105948\n",
       "2096     Yes     Yes  2261.848162  20030.165119\n",
       "2140      No     Yes  2308.893236  19110.266412\n",
       "2929     Yes     Yes  2387.314867  28296.914718\n",
       "3162     Yes     Yes  2415.316994  17429.503375\n",
       "3189     Yes      No  2228.472283  27438.348988\n",
       "3702      No     Yes  2370.463612  24251.958722\n",
       "3855     Yes     Yes  2321.882221  21331.314781\n",
       "3913     Yes     Yes  2334.123559  19335.889287\n",
       "3976      No     Yes  2388.174009   7832.135644\n",
       "4060     Yes     Yes  2216.017669  20911.695635\n",
       "4231     Yes     Yes  2291.617688  20837.209447\n",
       "4831      No     Yes  2216.329753  24737.081761\n",
       "5461     Yes     Yes  2247.421889  17926.723014\n",
       "6075     Yes      No  2413.319449  38540.572705\n",
       "6334     Yes      No  2343.797513  51095.293929\n",
       "6882     Yes     Yes  2287.173842  18692.144311\n",
       "7437     Yes     Yes  2461.506979  11878.557045\n",
       "7815     Yes     Yes  2578.469022  25706.647774\n",
       "8264     Yes      No  2236.764215  37113.883070\n",
       "8495     Yes     Yes  2654.322576  21930.388879\n",
       "8832     Yes     Yes  2207.599054  19780.763519\n",
       "8992     Yes     Yes  2352.054949  24067.548104\n",
       "9873      No      No  2391.007739  50302.909557\n",
       "9893     Yes      No  2288.408082  52043.569052\n",
       "9978     Yes      No  2202.462395  47287.257108"
      ]
     },
     "execution_count": 18,
     "metadata": {},
     "output_type": "execute_result"
    }
   ],
   "source": [
    "df"
   ]
  },
  {
   "cell_type": "code",
   "execution_count": 19,
   "id": "bbfb5254",
   "metadata": {},
   "outputs": [
    {
     "data": {
      "text/plain": [
       "31"
      ]
     },
     "execution_count": 19,
     "metadata": {},
     "output_type": "execute_result"
    }
   ],
   "source": [
    "df['default'].count()"
   ]
  },
  {
   "cell_type": "code",
   "execution_count": 20,
   "id": "ccc0318d",
   "metadata": {},
   "outputs": [
    {
     "data": {
      "text/plain": [
       "Yes    0.83871\n",
       "No     0.16129\n",
       "Name: default, dtype: float64"
      ]
     },
     "execution_count": 20,
     "metadata": {},
     "output_type": "execute_result"
    }
   ],
   "source": [
    "df['default'].value_counts(normalize = True)"
   ]
  },
  {
   "cell_type": "code",
   "execution_count": 21,
   "id": "85cd374f",
   "metadata": {},
   "outputs": [
    {
     "data": {
      "text/plain": [
       "Yes    26\n",
       "No      5\n",
       "Name: default, dtype: int64"
      ]
     },
     "execution_count": 21,
     "metadata": {},
     "output_type": "execute_result"
    }
   ],
   "source": [
    "df['default'].value_counts()"
   ]
  },
  {
   "cell_type": "code",
   "execution_count": 56,
   "id": "3d276698",
   "metadata": {},
   "outputs": [],
   "source": [
    "Default['balance']=np.where(Default['balance']>UL,UL,Default['balance'])"
   ]
  },
  {
   "cell_type": "code",
   "execution_count": 54,
   "id": "9ad2d06c",
   "metadata": {},
   "outputs": [
    {
     "data": {
      "text/plain": [
       "0        729.526495\n",
       "1        817.180407\n",
       "2       1073.549164\n",
       "3        529.250605\n",
       "4        785.655883\n",
       "           ...     \n",
       "9995     711.555020\n",
       "9996     757.962918\n",
       "9997     845.411989\n",
       "9998    1569.009053\n",
       "9999     200.922183\n",
       "Name: balance, Length: 10000, dtype: float64"
      ]
     },
     "execution_count": 54,
     "metadata": {},
     "output_type": "execute_result"
    }
   ],
   "source": [
    "Default['balance']"
   ]
  },
  {
   "cell_type": "code",
   "execution_count": 23,
   "id": "fc187144",
   "metadata": {},
   "outputs": [
    {
     "data": {
      "image/png": "[encoded data removed]",
      "text/plain": [
       "<Figure size 432x288 with 1 Axes>"
      ]
     },
     "metadata": {
      "needs_background": "light"
     },
     "output_type": "display_data"
    }
   ],
   "source": [
    "sns.boxplot(y=Default[\"balance\"])\n",
    "plt.show()"
   ]
  },
  {
   "cell_type": "code",
   "execution_count": 24,
   "id": "447a2a5c",
   "metadata": {},
   "outputs": [],
   "source": [
    "Default=pd.get_dummies(Default,drop_first = True)"
   ]
  },
  {
   "cell_type": "code",
   "execution_count": 25,
   "id": "299a4ad6",
   "metadata": {},
   "outputs": [
    {
     "data": {
      "text/html": [
       "<div>\n",
       "<style scoped>\n",
       "    .dataframe tbody tr th:only-of-type {\n",
       "        vertical-align: middle;\n",
       "    }\n",
       "\n",
       "    .dataframe tbody tr th {\n",
       "        vertical-align: top;\n",
       "    }\n",
       "\n",
       "    .dataframe thead th {\n",
       "        text-align: right;\n",
       "    }\n",
       "</style>\n",
       "<table border=\"1\" class=\"dataframe\">\n",
       "  <thead>\n",
       "    <tr style=\"text-align: right;\">\n",
       "      <th></th>\n",
       "      <th>balance</th>\n",
       "      <th>income</th>\n",
       "      <th>default_Yes</th>\n",
       "      <th>student_Yes</th>\n",
       "    </tr>\n",
       "  </thead>\n",
       "  <tbody>\n",
       "    <tr>\n",
       "      <th>0</th>\n",
       "      <td>729.526495</td>\n",
       "      <td>44361.625074</td>\n",
       "      <td>0</td>\n",
       "      <td>0</td>\n",
       "    </tr>\n",
       "    <tr>\n",
       "      <th>1</th>\n",
       "      <td>817.180407</td>\n",
       "      <td>12106.134700</td>\n",
       "      <td>0</td>\n",
       "      <td>1</td>\n",
       "    </tr>\n",
       "    <tr>\n",
       "      <th>2</th>\n",
       "      <td>1073.549164</td>\n",
       "      <td>31767.138947</td>\n",
       "      <td>0</td>\n",
       "      <td>0</td>\n",
       "    </tr>\n",
       "    <tr>\n",
       "      <th>3</th>\n",
       "      <td>529.250605</td>\n",
       "      <td>35704.493935</td>\n",
       "      <td>0</td>\n",
       "      <td>0</td>\n",
       "    </tr>\n",
       "    <tr>\n",
       "      <th>4</th>\n",
       "      <td>785.655883</td>\n",
       "      <td>38463.495879</td>\n",
       "      <td>0</td>\n",
       "      <td>0</td>\n",
       "    </tr>\n",
       "  </tbody>\n",
       "</table>\n",
       "</div>"
      ],
      "text/plain": [
       "       balance        income  default_Yes  student_Yes\n",
       "0   729.526495  44361.625074            0            0\n",
       "1   817.180407  12106.134700            0            1\n",
       "2  1073.549164  31767.138947            0            0\n",
       "3   529.250605  35704.493935            0            0\n",
       "4   785.655883  38463.495879            0            0"
      ]
     },
     "execution_count": 25,
     "metadata": {},
     "output_type": "execute_result"
    }
   ],
   "source": [
    "Default.head()"
   ]
  },
  {
   "cell_type": "code",
   "execution_count": 26,
   "id": "b002bc18",
   "metadata": {},
   "outputs": [],
   "source": [
    "Default.columns = ['balance','income','default','student']"
   ]
  },
  {
   "cell_type": "code",
   "execution_count": 27,
   "id": "8f7fb911",
   "metadata": {},
   "outputs": [
    {
     "data": {
      "text/html": [
       "<div>\n",
       "<style scoped>\n",
       "    .dataframe tbody tr th:only-of-type {\n",
       "        vertical-align: middle;\n",
       "    }\n",
       "\n",
       "    .dataframe tbody tr th {\n",
       "        vertical-align: top;\n",
       "    }\n",
       "\n",
       "    .dataframe thead th {\n",
       "        text-align: right;\n",
       "    }\n",
       "</style>\n",
       "<table border=\"1\" class=\"dataframe\">\n",
       "  <thead>\n",
       "    <tr style=\"text-align: right;\">\n",
       "      <th></th>\n",
       "      <th>balance</th>\n",
       "      <th>income</th>\n",
       "      <th>default</th>\n",
       "      <th>student</th>\n",
       "    </tr>\n",
       "  </thead>\n",
       "  <tbody>\n",
       "    <tr>\n",
       "      <th>0</th>\n",
       "      <td>729.526495</td>\n",
       "      <td>44361.625074</td>\n",
       "      <td>0</td>\n",
       "      <td>0</td>\n",
       "    </tr>\n",
       "    <tr>\n",
       "      <th>1</th>\n",
       "      <td>817.180407</td>\n",
       "      <td>12106.134700</td>\n",
       "      <td>0</td>\n",
       "      <td>1</td>\n",
       "    </tr>\n",
       "    <tr>\n",
       "      <th>2</th>\n",
       "      <td>1073.549164</td>\n",
       "      <td>31767.138947</td>\n",
       "      <td>0</td>\n",
       "      <td>0</td>\n",
       "    </tr>\n",
       "    <tr>\n",
       "      <th>3</th>\n",
       "      <td>529.250605</td>\n",
       "      <td>35704.493935</td>\n",
       "      <td>0</td>\n",
       "      <td>0</td>\n",
       "    </tr>\n",
       "    <tr>\n",
       "      <th>4</th>\n",
       "      <td>785.655883</td>\n",
       "      <td>38463.495879</td>\n",
       "      <td>0</td>\n",
       "      <td>0</td>\n",
       "    </tr>\n",
       "  </tbody>\n",
       "</table>\n",
       "</div>"
      ],
      "text/plain": [
       "       balance        income  default  student\n",
       "0   729.526495  44361.625074        0        0\n",
       "1   817.180407  12106.134700        0        1\n",
       "2  1073.549164  31767.138947        0        0\n",
       "3   529.250605  35704.493935        0        0\n",
       "4   785.655883  38463.495879        0        0"
      ]
     },
     "execution_count": 27,
     "metadata": {},
     "output_type": "execute_result"
    }
   ],
   "source": [
    "Default.head()"
   ]
  },
  {
   "cell_type": "code",
   "execution_count": 28,
   "id": "c7b5b964",
   "metadata": {},
   "outputs": [],
   "source": [
    "from sklearn.model_selection import train_test_split"
   ]
  },
  {
   "cell_type": "code",
   "execution_count": 30,
   "id": "2c83c137",
   "metadata": {},
   "outputs": [],
   "source": [
    "x = Default.drop('default', axis = 1)\n",
    "y = Default['default']"
   ]
  },
  {
   "cell_type": "code",
   "execution_count": 31,
   "id": "282050f4",
   "metadata": {},
   "outputs": [],
   "source": [
    "x_train,x_test,y_train,y_test=train_test_split(x,y,test_size=0.3,random_state=21,stratify=y)"
   ]
  },
  {
   "cell_type": "code",
   "execution_count": 32,
   "id": "bd1f60ce",
   "metadata": {},
   "outputs": [
    {
     "name": "stdout",
     "output_type": "stream",
     "text": [
      "(7000, 3)\n",
      "(3000, 3)\n"
     ]
    }
   ],
   "source": [
    "print(x_train.shape)\n",
    "print(x_test.shape)"
   ]
  },
  {
   "cell_type": "code",
   "execution_count": 33,
   "id": "6abb4563",
   "metadata": {},
   "outputs": [
    {
     "name": "stdout",
     "output_type": "stream",
     "text": [
      "0    0.97\n",
      "1    0.03\n",
      "Name: default, dtype: float64\n",
      "\n",
      "0    0.97\n",
      "1    0.03\n",
      "Name: default, dtype: float64\n"
     ]
    }
   ],
   "source": [
    "print(y_train.value_counts(normalize=True).round(2))\n",
    "print('')\n",
    "print(y_test.value_counts(normalize=True).round(2))"
   ]
  },
  {
   "cell_type": "code",
   "execution_count": 35,
   "id": "515700e7",
   "metadata": {},
   "outputs": [
    {
     "data": {
      "text/plain": [
       "\"'from imblearn.over_sampling import SMOTE\\nsm = SMOTE(random_state=33,sampling_startegy=0.75)\\nx_res,y_res = sm.fit_sample(x_train,y_train)\""
      ]
     },
     "execution_count": 35,
     "metadata": {},
     "output_type": "execute_result"
    }
   ],
   "source": [
    "''''from imblearn.over_sampling import SMOTE\n",
    "sm = SMOTE(random_state=33,sampling_startegy=0.75)\n",
    "x_res,y_res = sm.fit_sample(x_train,y_train)'''"
   ]
  },
  {
   "cell_type": "code",
   "execution_count": 38,
   "id": "3583c0d8",
   "metadata": {},
   "outputs": [],
   "source": [
    "from sklearn.linear_model import LogisticRegression"
   ]
  },
  {
   "cell_type": "code",
   "execution_count": 41,
   "id": "bb44146a",
   "metadata": {},
   "outputs": [],
   "source": [
    "lr = LogisticRegression()"
   ]
  },
  {
   "cell_type": "code",
   "execution_count": 42,
   "id": "76376d39",
   "metadata": {},
   "outputs": [
    {
     "data": {
      "text/plain": [
       "LogisticRegression()"
      ]
     },
     "execution_count": 42,
     "metadata": {},
     "output_type": "execute_result"
    }
   ],
   "source": [
    "lr"
   ]
  },
  {
   "cell_type": "code",
   "execution_count": 43,
   "id": "ba009c90",
   "metadata": {},
   "outputs": [
    {
     "data": {
      "text/plain": [
       "LogisticRegression()"
      ]
     },
     "execution_count": 43,
     "metadata": {},
     "output_type": "execute_result"
    }
   ],
   "source": [
    "lr.fit(x_train,y_train)"
   ]
  },
  {
   "cell_type": "code",
   "execution_count": 46,
   "id": "ae85950f",
   "metadata": {},
   "outputs": [],
   "source": [
    "y_pred=lr.predict(x_test)"
   ]
  },
  {
   "cell_type": "code",
   "execution_count": 50,
   "id": "c1c36fe5",
   "metadata": {},
   "outputs": [],
   "source": [
    "from sklearn.metrics import confusion_matrix, classification_report"
   ]
  },
  {
   "cell_type": "code",
   "execution_count": 52,
   "id": "6295da37",
   "metadata": {},
   "outputs": [
    {
     "data": {
      "text/plain": [
       "array([[2889,   11],\n",
       "       [  66,   34]], dtype=int64)"
      ]
     },
     "execution_count": 52,
     "metadata": {},
     "output_type": "execute_result"
    }
   ],
   "source": [
    "confusion_matrix(y_test,y_pred)"
   ]
  },
  {
   "cell_type": "code",
   "execution_count": 57,
   "id": "2b3245a1",
   "metadata": {},
   "outputs": [
    {
     "data": {
      "text/plain": [
       "0.985"
      ]
     },
     "execution_count": 57,
     "metadata": {},
     "output_type": "execute_result"
    }
   ],
   "source": [
    "(2889+66)/(2889+34+11+66)"
   ]
  },
  {
   "cell_type": "code",
   "execution_count": null,
   "id": "81af7604",
   "metadata": {},
   "outputs": [],
   "source": []
  }
 ],
 "metadata": {
  "kernelspec": {
   "display_name": "Python 3",
   "language": "python",
   "name": "python3"
  },
  "language_info": {
   "codemirror_mode": {
    "name": "ipython",
    "version": 3
   },
   "file_extension": ".py",
   "mimetype": "text/x-python",
   "name": "python",
   "nbconvert_exporter": "python",
   "pygments_lexer": "ipython3",
   "version": "3.9.4"
  }
 },
 "nbformat": 4,
 "nbformat_minor": 5
}
